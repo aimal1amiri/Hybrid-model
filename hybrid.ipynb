{
  "nbformat": 4,
  "nbformat_minor": 0,
  "metadata": {
    "colab": {
      "provenance": [],
      "machine_shape": "hm",
      "gpuType": "T4",
      "authorship_tag": "ABX9TyPUZCLbmNgCHOzcb+FyaSXF",
      "include_colab_link": true
    },
    "kernelspec": {
      "name": "python3",
      "display_name": "Python 3"
    },
    "language_info": {
      "name": "python"
    },
    "accelerator": "GPU"
  },
  "cells": [
    {
      "cell_type": "markdown",
      "metadata": {
        "id": "view-in-github",
        "colab_type": "text"
      },
      "source": [
        "<a href=\"https://colab.research.google.com/github/aimal1amiri/Hybrid-model/blob/master/hybrid.ipynb\" target=\"_parent\"><img src=\"https://colab.research.google.com/assets/colab-badge.svg\" alt=\"Open In Colab\"/></a>"
      ]
    },
    {
      "cell_type": "code",
      "execution_count": null,
      "metadata": {
        "colab": {
          "base_uri": "https://localhost:8080/"
        },
        "id": "NnmHZmMB0Std",
        "outputId": "29d50f90-5ecb-43b7-ff8c-b76b7d3215a7"
      },
      "outputs": [
        {
          "output_type": "stream",
          "name": "stdout",
          "text": [
            "Mounted at /content/drive\n"
          ]
        }
      ],
      "source": [
        "from google.colab import drive\n",
        "import os\n",
        "from pathlib import Path\n",
        "\n",
        "\n",
        "drive.mount('/content/drive')"
      ]
    },
    {
      "cell_type": "code",
      "source": [
        "dataset_dir = \"/content/drive/MyDrive/dataset\"\n",
        "categories = os.listdir(dataset_dir)\n",
        "\n",
        "print(categories)"
      ],
      "metadata": {
        "colab": {
          "base_uri": "https://localhost:8080/"
        },
        "id": "krhpl_Dj0z8g",
        "outputId": "37009ffa-f529-4360-b6b0-ede15e598888"
      },
      "execution_count": null,
      "outputs": [
        {
          "output_type": "stream",
          "name": "stdout",
          "text": [
            "['chicken_pox', 'cow_pox', 'healthy', 'HFMD', 'measles', 'monkey_pox']\n"
          ]
        }
      ]
    },
    {
      "cell_type": "code",
      "source": [
        "\n",
        "IMG_SIZE = (224, 224)\n",
        "BATCH_SIZE = 32\n"
      ],
      "metadata": {
        "id": "esQ0kDJG019Y"
      },
      "execution_count": null,
      "outputs": []
    },
    {
      "cell_type": "code",
      "source": [
        "import os\n",
        "import numpy as np\n",
        "import tensorflow as tf\n",
        "from sklearn.model_selection import train_test_split\n",
        "from tensorflow.keras.utils import to_categorical\n",
        "from tensorflow.keras.applications import DenseNet121\n",
        "from tensorflow.keras.layers import Dense, GlobalAveragePooling2D\n",
        "from tensorflow.keras.models import Model"
      ],
      "metadata": {
        "id": "4fv6MlYF1Eqh"
      },
      "execution_count": null,
      "outputs": []
    },
    {
      "cell_type": "code",
      "source": [
        "\n",
        "def load_and_split_data(dataset_dir):\n",
        "    filepaths, labels = [], []\n",
        "    for label, category in enumerate(categories):\n",
        "        category_path = os.path.join(dataset_dir, category)\n",
        "        for file in os.listdir(category_path):\n",
        "            filepaths.append(os.path.join(category_path, file))\n",
        "            labels.append(label)\n",
        "\n",
        "\n",
        "    X_train, X_temp, y_train, y_temp = train_test_split(filepaths, labels, test_size=0.3, stratify=labels, random_state=42)\n",
        "    X_val, X_test, y_val, y_test = train_test_split(X_temp, y_temp, test_size=0.33, stratify=y_temp, random_state=42)\n",
        "    return X_train, X_val, X_test, y_train, y_val, y_test\n",
        "\n",
        "X_train, X_val, X_test, y_train, y_val, y_test = load_and_split_data(dataset_dir)\n"
      ],
      "metadata": {
        "id": "1sl4jCxk1L6Z"
      },
      "execution_count": null,
      "outputs": []
    },
    {
      "cell_type": "code",
      "source": [
        "\n",
        "# Data Preprocessing\n",
        "def preprocess_image(file_path):\n",
        "\n",
        "    image = tf.image.decode_jpeg(tf.io.read_file(file_path), channels=3)\n",
        "\n",
        "    image = tf.image.resize(image, IMG_SIZE)\n",
        "\n",
        "    image = image / 255.0\n",
        "    return image"
      ],
      "metadata": {
        "id": "LpUCemDT1R_x"
      },
      "execution_count": null,
      "outputs": []
    },
    {
      "cell_type": "code",
      "source": [
        "def create_generator(filepaths, labels, batch_size=BATCH_SIZE):\n",
        "    labels = tf.keras.utils.to_categorical(labels, num_classes=len(categories))\n",
        "    dataset = tf.data.Dataset.from_tensor_slices((filepaths, labels))\n",
        "    dataset = dataset.map(lambda x, y: (preprocess_image(x), y))\n",
        "    return dataset.batch(batch_size).prefetch(tf.data.AUTOTUNE)"
      ],
      "metadata": {
        "id": "iWP0win51XOf"
      },
      "execution_count": null,
      "outputs": []
    },
    {
      "cell_type": "code",
      "source": [
        "\n",
        "train_generator = create_generator(X_train, y_train)\n",
        "val_generator = create_generator(X_val, y_val)\n",
        "test_generator = create_generator(X_test, y_test)\n"
      ],
      "metadata": {
        "id": "_sBsbxrH1Zrf"
      },
      "execution_count": null,
      "outputs": []
    },
    {
      "cell_type": "code",
      "source": [
        "from tensorflow.keras.applications import DenseNet121, InceptionV3\n",
        "from tensorflow.keras.layers import Dense, GlobalAveragePooling2D, Concatenate, Dropout\n",
        "from tensorflow.keras.models import Model\n",
        "from tensorflow.keras.optimizers import Adam\n"
      ],
      "metadata": {
        "id": "NaRkQDcL7Ixx"
      },
      "execution_count": null,
      "outputs": []
    },
    {
      "cell_type": "code",
      "source": [
        "# DenseNet121 Model\n",
        "base_model1 = DenseNet121(weights='imagenet', include_top=False, input_shape=(224, 224, 3))\n",
        "x1 = GlobalAveragePooling2D()(base_model1.output)\n",
        "\n",
        "# InceptionV3 Model\n",
        "base_model2 = InceptionV3(weights='imagenet', include_top=False, input_shape=(224, 224, 3))\n",
        "x2 = GlobalAveragePooling2D()(base_model2.output)\n"
      ],
      "metadata": {
        "colab": {
          "base_uri": "https://localhost:8080/"
        },
        "id": "ya2zs9Xf7KPw",
        "outputId": "edbe8b47-20ec-4b62-8629-d96ec1e914b1"
      },
      "execution_count": null,
      "outputs": [
        {
          "output_type": "stream",
          "name": "stdout",
          "text": [
            "Downloading data from https://storage.googleapis.com/tensorflow/keras-applications/densenet/densenet121_weights_tf_dim_ordering_tf_kernels_notop.h5\n",
            "\u001b[1m29084464/29084464\u001b[0m \u001b[32m━━━━━━━━━━━━━━━━━━━━\u001b[0m\u001b[37m\u001b[0m \u001b[1m2s\u001b[0m 0us/step\n",
            "Downloading data from https://storage.googleapis.com/tensorflow/keras-applications/inception_v3/inception_v3_weights_tf_dim_ordering_tf_kernels_notop.h5\n",
            "\u001b[1m87910968/87910968\u001b[0m \u001b[32m━━━━━━━━━━━━━━━━━━━━\u001b[0m\u001b[37m\u001b[0m \u001b[1m5s\u001b[0m 0us/step\n"
          ]
        }
      ]
    },
    {
      "cell_type": "markdown",
      "source": [
        "### **When necessary features are extracted from the image by both models , then in this concatenatd layer , combines them then later they classify it that to which label is related.**"
      ],
      "metadata": {
        "id": "guHFbNwYC9yI"
      }
    },
    {
      "cell_type": "code",
      "source": [
        "\n",
        "combined_features = Concatenate()([x1, x2])\n",
        "\n",
        "\n",
        "x = Dense(256, activation='relu')(combined_features)\n",
        "x = Dropout(0.5)(x)\n",
        "output = Dense(len(categories), activation='softmax')(x)\n",
        "\n",
        "\n",
        "model = Model(inputs=[base_model1.input, base_model2.input], outputs=output)\n"
      ],
      "metadata": {
        "id": "sG066x3r7MxP"
      },
      "execution_count": null,
      "outputs": []
    },
    {
      "cell_type": "code",
      "source": [
        "for layer in base_model1.layers[-30:]:  # Unfreeze last 30 layers\n",
        "    layer.trainable = True\n",
        "\n",
        "\n",
        "for layer in base_model2.layers[-30:]:  # Unfreeze last 30 layers\n",
        "    layer.trainable = True\n"
      ],
      "metadata": {
        "id": "38lCJGl97OJ4"
      },
      "execution_count": null,
      "outputs": []
    },
    {
      "cell_type": "code",
      "source": [
        "from tensorflow.keras.callbacks import EarlyStopping, ReduceLROnPlateau, ModelCheckpoint\n",
        "# Callbacks\n",
        "early_stopping = EarlyStopping(monitor='val_loss', patience=7, restore_best_weights=True)\n",
        "lr_scheduler = ReduceLROnPlateau(monitor='val_loss', factor=0.1, patience=3, min_lr=1e-7)\n",
        "model_checkpoint = ModelCheckpoint(\"/content/drive/MyDrive/Final-Version-Models-for-Mpox/best_hybrid_model_v3.keras\", save_best_only=True, monitor='val_loss')\n"
      ],
      "metadata": {
        "id": "TyKDGrdc7Oo9"
      },
      "execution_count": null,
      "outputs": []
    },
    {
      "cell_type": "code",
      "source": [
        "model.compile(optimizer=Adam(learning_rate=1e-4),\n",
        "              loss='categorical_crossentropy',\n",
        "              metrics=['accuracy'])\n"
      ],
      "metadata": {
        "id": "dSWcZLmQ7P4M"
      },
      "execution_count": null,
      "outputs": []
    },
    {
      "cell_type": "code",
      "source": [
        "def prepare_two_inputs(generator):\n",
        "    dataset = generator.map(lambda x, y: ((x, x), y))\n",
        "    return dataset\n"
      ],
      "metadata": {
        "id": "jokyxP--8BAk"
      },
      "execution_count": null,
      "outputs": []
    },
    {
      "cell_type": "code",
      "source": [
        "train_dataset = prepare_two_inputs(train_generator)\n",
        "val_dataset = prepare_two_inputs(val_generator)\n",
        "\n",
        "history = model.fit(\n",
        "    train_dataset,\n",
        "    validation_data=val_dataset,\n",
        "    epochs=30,\n",
        "    callbacks=[early_stopping, lr_scheduler, model_checkpoint],\n",
        ")\n"
      ],
      "metadata": {
        "colab": {
          "base_uri": "https://localhost:8080/"
        },
        "id": "4KDxEehP8DWY",
        "outputId": "fec8befe-2c62-4d10-9ba3-f9ab8abe793e"
      },
      "execution_count": null,
      "outputs": [
        {
          "output_type": "stream",
          "name": "stdout",
          "text": [
            "Epoch 1/30\n",
            "\u001b[1m125/125\u001b[0m \u001b[32m━━━━━━━━━━━━━━━━━━━━\u001b[0m\u001b[37m\u001b[0m \u001b[1m759s\u001b[0m 4s/step - accuracy: 0.5791 - loss: 1.1253 - val_accuracy: 0.9038 - val_loss: 0.2721 - learning_rate: 1.0000e-04\n",
            "Epoch 2/30\n",
            "\u001b[1m125/125\u001b[0m \u001b[32m━━━━━━━━━━━━━━━━━━━━\u001b[0m\u001b[37m\u001b[0m \u001b[1m74s\u001b[0m 589ms/step - accuracy: 0.9562 - loss: 0.1394 - val_accuracy: 0.9501 - val_loss: 0.1655 - learning_rate: 1.0000e-04\n",
            "Epoch 3/30\n",
            "\u001b[1m125/125\u001b[0m \u001b[32m━━━━━━━━━━━━━━━━━━━━\u001b[0m\u001b[37m\u001b[0m \u001b[1m74s\u001b[0m 588ms/step - accuracy: 0.9931 - loss: 0.0329 - val_accuracy: 0.9641 - val_loss: 0.1096 - learning_rate: 1.0000e-04\n",
            "Epoch 4/30\n",
            "\u001b[1m125/125\u001b[0m \u001b[32m━━━━━━━━━━━━━━━━━━━━\u001b[0m\u001b[37m\u001b[0m \u001b[1m71s\u001b[0m 566ms/step - accuracy: 0.9983 - loss: 0.0105 - val_accuracy: 0.9641 - val_loss: 0.1194 - learning_rate: 1.0000e-04\n",
            "Epoch 5/30\n",
            "\u001b[1m125/125\u001b[0m \u001b[32m━━━━━━━━━━━━━━━━━━━━\u001b[0m\u001b[37m\u001b[0m \u001b[1m70s\u001b[0m 564ms/step - accuracy: 0.9987 - loss: 0.0097 - val_accuracy: 0.9668 - val_loss: 0.1139 - learning_rate: 1.0000e-04\n",
            "Epoch 6/30\n",
            "\u001b[1m125/125\u001b[0m \u001b[32m━━━━━━━━━━━━━━━━━━━━\u001b[0m\u001b[37m\u001b[0m \u001b[1m74s\u001b[0m 590ms/step - accuracy: 0.9981 - loss: 0.0070 - val_accuracy: 0.9729 - val_loss: 0.0958 - learning_rate: 1.0000e-04\n",
            "Epoch 7/30\n",
            "\u001b[1m125/125\u001b[0m \u001b[32m━━━━━━━━━━━━━━━━━━━━\u001b[0m\u001b[37m\u001b[0m \u001b[1m75s\u001b[0m 594ms/step - accuracy: 1.0000 - loss: 0.0021 - val_accuracy: 0.9781 - val_loss: 0.0830 - learning_rate: 1.0000e-04\n",
            "Epoch 8/30\n",
            "\u001b[1m125/125\u001b[0m \u001b[32m━━━━━━━━━━━━━━━━━━━━\u001b[0m\u001b[37m\u001b[0m \u001b[1m71s\u001b[0m 562ms/step - accuracy: 0.9996 - loss: 0.0021 - val_accuracy: 0.9685 - val_loss: 0.1052 - learning_rate: 1.0000e-04\n",
            "Epoch 9/30\n",
            "\u001b[1m125/125\u001b[0m \u001b[32m━━━━━━━━━━━━━━━━━━━━\u001b[0m\u001b[37m\u001b[0m \u001b[1m70s\u001b[0m 563ms/step - accuracy: 1.0000 - loss: 6.1433e-04 - val_accuracy: 0.9703 - val_loss: 0.0951 - learning_rate: 1.0000e-04\n",
            "Epoch 10/30\n",
            "\u001b[1m125/125\u001b[0m \u001b[32m━━━━━━━━━━━━━━━━━━━━\u001b[0m\u001b[37m\u001b[0m \u001b[1m71s\u001b[0m 566ms/step - accuracy: 1.0000 - loss: 5.1818e-04 - val_accuracy: 0.9755 - val_loss: 0.0862 - learning_rate: 1.0000e-04\n",
            "Epoch 11/30\n",
            "\u001b[1m125/125\u001b[0m \u001b[32m━━━━━━━━━━━━━━━━━━━━\u001b[0m\u001b[37m\u001b[0m \u001b[1m71s\u001b[0m 564ms/step - accuracy: 1.0000 - loss: 3.8416e-04 - val_accuracy: 0.9746 - val_loss: 0.0853 - learning_rate: 1.0000e-05\n",
            "Epoch 12/30\n",
            "\u001b[1m125/125\u001b[0m \u001b[32m━━━━━━━━━━━━━━━━━━━━\u001b[0m\u001b[37m\u001b[0m \u001b[1m70s\u001b[0m 564ms/step - accuracy: 1.0000 - loss: 3.5426e-04 - val_accuracy: 0.9755 - val_loss: 0.0850 - learning_rate: 1.0000e-05\n",
            "Epoch 13/30\n",
            "\u001b[1m125/125\u001b[0m \u001b[32m━━━━━━━━━━━━━━━━━━━━\u001b[0m\u001b[37m\u001b[0m \u001b[1m70s\u001b[0m 563ms/step - accuracy: 1.0000 - loss: 3.2314e-04 - val_accuracy: 0.9746 - val_loss: 0.0844 - learning_rate: 1.0000e-05\n",
            "Epoch 14/30\n",
            "\u001b[1m125/125\u001b[0m \u001b[32m━━━━━━━━━━━━━━━━━━━━\u001b[0m\u001b[37m\u001b[0m \u001b[1m71s\u001b[0m 566ms/step - accuracy: 1.0000 - loss: 4.6420e-04 - val_accuracy: 0.9746 - val_loss: 0.0843 - learning_rate: 1.0000e-06\n"
          ]
        }
      ]
    },
    {
      "cell_type": "code",
      "source": [
        "test_dataset = prepare_two_inputs(test_generator)\n"
      ],
      "metadata": {
        "id": "LQqU4xFJEMwU"
      },
      "execution_count": null,
      "outputs": []
    },
    {
      "cell_type": "code",
      "source": [
        "test_loss, test_acc = model.evaluate(test_dataset)\n",
        "print(f\"Test Accuracy: {test_acc:.2f}\")\n"
      ],
      "metadata": {
        "colab": {
          "base_uri": "https://localhost:8080/"
        },
        "id": "MS5vGonKDmxM",
        "outputId": "a13a4e42-66aa-4103-ef7e-da8e450d1c2a"
      },
      "execution_count": null,
      "outputs": [
        {
          "output_type": "stream",
          "name": "stdout",
          "text": [
            "\u001b[1m18/18\u001b[0m \u001b[32m━━━━━━━━━━━━━━━━━━━━\u001b[0m\u001b[37m\u001b[0m \u001b[1m61s\u001b[0m 3s/step - accuracy: 0.9841 - loss: 0.0563\n",
            "Test Accuracy: 0.98\n"
          ]
        }
      ]
    },
    {
      "cell_type": "code",
      "source": [
        "import matplotlib.pyplot as plt\n",
        "\n",
        "# Plot training and validation accuracy\n",
        "plt.plot(history.history['accuracy'], label='Training Accuracy')\n",
        "plt.plot(history.history['val_accuracy'], label='Validation Accuracy')\n",
        "plt.title('Model Accuracy')\n",
        "plt.xlabel('Epochs')\n",
        "plt.ylabel('Accuracy')\n",
        "plt.legend()\n",
        "plt.show()\n",
        "\n",
        "# Plot training and validation loss\n",
        "plt.plot(history.history['loss'], label='Training Loss')\n",
        "plt.plot(history.history['val_loss'], label='Validation Loss')\n",
        "plt.title('Model Loss')\n",
        "plt.xlabel('Epochs')\n",
        "plt.ylabel('Loss')\n",
        "plt.legend()\n",
        "plt.show()\n"
      ],
      "metadata": {
        "colab": {
          "base_uri": "https://localhost:8080/",
          "height": 927
        },
        "id": "ats6oDTnEVGc",
        "outputId": "bcae2705-96a8-4dbd-9e98-c1b8f6aaf3b7"
      },
      "execution_count": null,
      "outputs": [
        {
          "output_type": "display_data",
          "data": {
            "text/plain": [
              "<Figure size 640x480 with 1 Axes>"
            ],
            "image/png": "[encoded data removed]"
          },
          "metadata": {}
        },
        {
          "output_type": "display_data",
          "data": {
            "text/plain": [
              "<Figure size 640x480 with 1 Axes>"
            ],
            "image/png": "[encoded data removed]"
          },
          "metadata": {}
        }
      ]
    },
    {
      "cell_type": "code",
      "source": [
        "def create_generator(filepaths, labels, batch_size=32):\n",
        "    dataset = tf.data.Dataset.from_tensor_slices((filepaths, labels))\n",
        "    dataset = dataset.map(lambda x, y: (preprocess_image(x), tf.one_hot(y, depth=len(categories))))\n",
        "    return dataset.batch(batch_size).prefetch(tf.data.AUTOTUNE)\n"
      ],
      "metadata": {
        "id": "gNqoSIbNGddY"
      },
      "execution_count": null,
      "outputs": []
    },
    {
      "cell_type": "code",
      "source": [
        "def create_fixed_generator(filepaths, labels, batch_size=32):\n",
        "    dataset = tf.data.Dataset.from_tensor_slices((filepaths, labels))\n",
        "    dataset = dataset.map(lambda x, y: (preprocess_image(x), tf.one_hot(y, depth=len(categories))))\n",
        "    dataset = dataset.map(lambda x, y: (tf.reshape(x, (224, 224, 3)), y))\n",
        "    return dataset.batch(batch_size).prefetch(tf.data.AUTOTUNE)\n"
      ],
      "metadata": {
        "id": "9zIrk_QnGf6F"
      },
      "execution_count": null,
      "outputs": []
    },
    {
      "cell_type": "code",
      "source": [
        "test_dataset = create_fixed_generator(X_test, y_test, batch_size=32)\n"
      ],
      "metadata": {
        "id": "i0HfTp7BGgzU"
      },
      "execution_count": null,
      "outputs": []
    },
    {
      "cell_type": "code",
      "source": [
        "for x, y in test_dataset.take(1):\n",
        "    print(f\"Fixed Input Shape: {tf.shape(x)}\")  # Should be [32, 224, 224, 3]\n",
        "    print(f\"Fixed Label Shape: {tf.shape(y)}\")  # Should be [32, num_classes]\n"
      ],
      "metadata": {
        "colab": {
          "base_uri": "https://localhost:8080/"
        },
        "id": "nerg_gDFGjNV",
        "outputId": "bafcbf3a-1857-451d-91aa-bca37cdae552"
      },
      "execution_count": null,
      "outputs": [
        {
          "output_type": "stream",
          "name": "stdout",
          "text": [
            "Fixed Input Shape: [ 32 224 224   3]\n",
            "Fixed Label Shape: [32  6]\n"
          ]
        }
      ]
    },
    {
      "cell_type": "code",
      "source": [
        "formatted_test_dataset = prepare_two_inputs(test_dataset)\n"
      ],
      "metadata": {
        "id": "GwKLzNnRGnr_"
      },
      "execution_count": null,
      "outputs": []
    },
    {
      "cell_type": "code",
      "source": [
        "for (input1, input2), labels in formatted_test_dataset.take(1):\n",
        "    print(f\"Input1 Shape: {tf.shape(input1)}\")  # Should be [32, 224, 224, 3]\n",
        "    print(f\"Input2 Shape: {tf.shape(input2)}\")  # Should be [32, 224, 224, 3]\n",
        "    print(f\"Labels Shape: {tf.shape(labels)}\")  # Should be [32, 6]\n"
      ],
      "metadata": {
        "colab": {
          "base_uri": "https://localhost:8080/"
        },
        "id": "Fbff9BNdGqmZ",
        "outputId": "6a2aedbe-078c-4b27-fdb7-729172faa03d"
      },
      "execution_count": null,
      "outputs": [
        {
          "output_type": "stream",
          "name": "stdout",
          "text": [
            "Input1 Shape: [ 32 224 224   3]\n",
            "Input2 Shape: [ 32 224 224   3]\n",
            "Labels Shape: [32  6]\n"
          ]
        }
      ]
    },
    {
      "cell_type": "code",
      "source": [
        "y_true = []\n",
        "y_pred = []\n",
        "\n",
        "# Predict on the test dataset\n",
        "for (input1, input2), labels in formatted_test_dataset:\n",
        "    predictions = model.predict([input1, input2])  # Provide two inputs to the model\n",
        "    y_true.extend(np.argmax(labels.numpy(), axis=1))  # Append true class indices\n",
        "    y_pred.extend(np.argmax(predictions, axis=1))  # Append predicted class indices\n"
      ],
      "metadata": {
        "colab": {
          "base_uri": "https://localhost:8080/"
        },
        "id": "YJ-r2ze-Gx7Z",
        "outputId": "da00b440-0912-4859-b974-9cf9ea25c696"
      },
      "execution_count": null,
      "outputs": [
        {
          "output_type": "stream",
          "name": "stdout",
          "text": [
            "\u001b[1m1/1\u001b[0m \u001b[32m━━━━━━━━━━━━━━━━━━━━\u001b[0m\u001b[37m\u001b[0m \u001b[1m12s\u001b[0m 12s/step\n",
            "\u001b[1m1/1\u001b[0m \u001b[32m━━━━━━━━━━━━━━━━━━━━\u001b[0m\u001b[37m\u001b[0m \u001b[1m0s\u001b[0m 55ms/step\n",
            "\u001b[1m1/1\u001b[0m \u001b[32m━━━━━━━━━━━━━━━━━━━━\u001b[0m\u001b[37m\u001b[0m \u001b[1m0s\u001b[0m 52ms/step\n",
            "\u001b[1m1/1\u001b[0m \u001b[32m━━━━━━━━━━━━━━━━━━━━\u001b[0m\u001b[37m\u001b[0m \u001b[1m0s\u001b[0m 56ms/step\n",
            "\u001b[1m1/1\u001b[0m \u001b[32m━━━━━━━━━━━━━━━━━━━━\u001b[0m\u001b[37m\u001b[0m \u001b[1m0s\u001b[0m 47ms/step\n",
            "\u001b[1m1/1\u001b[0m \u001b[32m━━━━━━━━━━━━━━━━━━━━\u001b[0m\u001b[37m\u001b[0m \u001b[1m0s\u001b[0m 51ms/step\n",
            "\u001b[1m1/1\u001b[0m \u001b[32m━━━━━━━━━━━━━━━━━━━━\u001b[0m\u001b[37m\u001b[0m \u001b[1m0s\u001b[0m 53ms/step\n",
            "\u001b[1m1/1\u001b[0m \u001b[32m━━━━━━━━━━━━━━━━━━━━\u001b[0m\u001b[37m\u001b[0m \u001b[1m0s\u001b[0m 60ms/step\n",
            "\u001b[1m1/1\u001b[0m \u001b[32m━━━━━━━━━━━━━━━━━━━━\u001b[0m\u001b[37m\u001b[0m \u001b[1m0s\u001b[0m 48ms/step\n",
            "\u001b[1m1/1\u001b[0m \u001b[32m━━━━━━━━━━━━━━━━━━━━\u001b[0m\u001b[37m\u001b[0m \u001b[1m0s\u001b[0m 61ms/step\n",
            "\u001b[1m1/1\u001b[0m \u001b[32m━━━━━━━━━━━━━━━━━━━━\u001b[0m\u001b[37m\u001b[0m \u001b[1m0s\u001b[0m 53ms/step\n",
            "\u001b[1m1/1\u001b[0m \u001b[32m━━━━━━━━━━━━━━━━━━━━\u001b[0m\u001b[37m\u001b[0m \u001b[1m0s\u001b[0m 54ms/step\n",
            "\u001b[1m1/1\u001b[0m \u001b[32m━━━━━━━━━━━━━━━━━━━━\u001b[0m\u001b[37m\u001b[0m \u001b[1m0s\u001b[0m 56ms/step\n",
            "\u001b[1m1/1\u001b[0m \u001b[32m━━━━━━━━━━━━━━━━━━━━\u001b[0m\u001b[37m\u001b[0m \u001b[1m0s\u001b[0m 53ms/step\n",
            "\u001b[1m1/1\u001b[0m \u001b[32m━━━━━━━━━━━━━━━━━━━━\u001b[0m\u001b[37m\u001b[0m \u001b[1m0s\u001b[0m 53ms/step\n",
            "\u001b[1m1/1\u001b[0m \u001b[32m━━━━━━━━━━━━━━━━━━━━\u001b[0m\u001b[37m\u001b[0m \u001b[1m0s\u001b[0m 52ms/step\n",
            "\u001b[1m1/1\u001b[0m \u001b[32m━━━━━━━━━━━━━━━━━━━━\u001b[0m\u001b[37m\u001b[0m \u001b[1m0s\u001b[0m 51ms/step\n",
            "\u001b[1m1/1\u001b[0m \u001b[32m━━━━━━━━━━━━━━━━━━━━\u001b[0m\u001b[37m\u001b[0m \u001b[1m13s\u001b[0m 13s/step\n"
          ]
        }
      ]
    },
    {
      "cell_type": "code",
      "source": [
        "from sklearn.metrics import confusion_matrix, ConfusionMatrixDisplay\n",
        "import matplotlib.pyplot as plt\n",
        "\n",
        "# Compute confusion matrix\n",
        "cm = confusion_matrix(y_true, y_pred)\n",
        "disp = ConfusionMatrixDisplay(confusion_matrix=cm, display_labels=categories)\n",
        "\n",
        "# Plot confusion matrix\n",
        "plt.figure(figsize=(10, 8))\n",
        "disp.plot(cmap=plt.cm.Blues, values_format='d')\n",
        "plt.title('Confusion Matrix')\n",
        "plt.show()\n"
      ],
      "metadata": {
        "colab": {
          "base_uri": "https://localhost:8080/",
          "height": 490
        },
        "id": "vBe7QmNJG0K7",
        "outputId": "bcf144ca-e07f-43b5-c243-490d8ef528fd"
      },
      "execution_count": null,
      "outputs": [
        {
          "output_type": "display_data",
          "data": {
            "text/plain": [
              "<Figure size 1000x800 with 0 Axes>"
            ]
          },
          "metadata": {}
        },
        {
          "output_type": "display_data",
          "data": {
            "text/plain": [
              "<Figure size 640x480 with 2 Axes>"
            ],
            "image/png": "[encoded data removed]"
          },
          "metadata": {}
        }
      ]
    }
  ]
}